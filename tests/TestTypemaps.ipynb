{
 "metadata": {
  "name": ""
 },
 "nbformat": 3,
 "nbformat_minor": 0,
 "worksheets": [
  {
   "cells": [
    {
     "cell_type": "code",
     "collapsed": false,
     "input": [
      "import Quaternions\n",
      "Quaternions.QuaternionArray(Quaternions.vectorvectord([[0,0,0,1.], [1.,0,0,0]]))"
     ],
     "language": "python",
     "metadata": {},
     "outputs": [
      {
       "metadata": {},
       "output_type": "pyout",
       "prompt_number": 1,
       "text": [
        "(Quaternion(0, 0, 0, 1), Quaternion(1, 0, 0, 0))"
       ]
      }
     ],
     "prompt_number": 1
    },
    {
     "cell_type": "code",
     "collapsed": false,
     "input": [
      "t = [0., 1.0, 2., 3.]\n",
      "v = Quaternions.QuaternionArray([[0,0,1.], [1.,0,0], [0,1.,0], [0,0,1.]])"
     ],
     "language": "python",
     "metadata": {},
     "outputs": [],
     "prompt_number": 6
    },
    {
     "cell_type": "code",
     "collapsed": false,
     "input": [
      "Quaternions.FrameFromZ(v, t)"
     ],
     "language": "python",
     "metadata": {},
     "outputs": [
      {
       "metadata": {},
       "output_type": "pyout",
       "prompt_number": 7,
       "text": [
        "(Quaternion(1, 0, 0, 0),\n",
        " Quaternion(0.695238273413558, 0.129010632046104, 0.695238273413558, 0.129010632046104),\n",
        " Quaternion(0.528896890850549, -0.528896890850549, 0.469327261991697, 0.469327261991697),\n",
        " Quaternion(0.614322309005436, 0, 0, 0.789055194937736))"
       ]
      }
     ],
     "prompt_number": 7
    },
    {
     "cell_type": "code",
     "collapsed": false,
     "input": [
      "Quaternions.sqrtOfRotor(Quaternions.FrameFromZ(v, t))"
     ],
     "language": "python",
     "metadata": {},
     "outputs": [
      {
       "metadata": {},
       "output_type": "pyout",
       "prompt_number": 11,
       "text": [
        "(Quaternion(1, 0, 0, 0),\n",
        " Quaternion(0.920662335879327, 0.0700640327177528, 0.377575059997178, 0.0700640327177528),\n",
        " Quaternion(0.874327424610068, -0.302459282394365, 0.268393309406374, 0.268393309406374),\n",
        " Quaternion(0.898421479319544, 0, 0, 0.439134199872068))"
       ]
      }
     ],
     "prompt_number": 11
    },
    {
     "cell_type": "code",
     "collapsed": false,
     "input": [
      "Quaternions.sqrtOfRotor(list(Quaternions.FrameFromZ(v, t)))"
     ],
     "language": "python",
     "metadata": {},
     "outputs": [
      {
       "metadata": {},
       "output_type": "pyout",
       "prompt_number": 12,
       "text": [
        "(Quaternion(1, 0, 0, 0),\n",
        " Quaternion(0.920662335879327, 0.0700640327177528, 0.377575059997178, 0.0700640327177528),\n",
        " Quaternion(0.874327424610068, -0.302459282394365, 0.268393309406374, 0.268393309406374),\n",
        " Quaternion(0.898421479319544, 0, 0, 0.439134199872068))"
       ]
      }
     ],
     "prompt_number": 12
    },
    {
     "cell_type": "code",
     "collapsed": false,
     "input": [],
     "language": "python",
     "metadata": {},
     "outputs": []
    }
   ],
   "metadata": {}
  }
 ]
}